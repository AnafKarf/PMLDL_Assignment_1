{
 "cells": [
  {
   "cell_type": "code",
   "execution_count": 1,
   "metadata": {
    "collapsed": true,
    "ExecuteTime": {
     "end_time": "2024-10-01T14:17:51.983603600Z",
     "start_time": "2024-10-01T14:17:50.662966500Z"
    }
   },
   "outputs": [
    {
     "data": {
      "text/plain": "   Age     Sex   BMI  Children Smoker  Medical Cost\n0   58    male  15.6         2    yes      17907.54\n1   24    male  29.8         0    yes      16312.64\n2   50    male  29.0         5     no       6819.21\n3   35    male  34.0         1     no       5247.87\n4   31  female  17.6         3    yes      17525.49",
      "text/html": "<div>\n<style scoped>\n    .dataframe tbody tr th:only-of-type {\n        vertical-align: middle;\n    }\n\n    .dataframe tbody tr th {\n        vertical-align: top;\n    }\n\n    .dataframe thead th {\n        text-align: right;\n    }\n</style>\n<table border=\"1\" class=\"dataframe\">\n  <thead>\n    <tr style=\"text-align: right;\">\n      <th></th>\n      <th>Age</th>\n      <th>Sex</th>\n      <th>BMI</th>\n      <th>Children</th>\n      <th>Smoker</th>\n      <th>Medical Cost</th>\n    </tr>\n  </thead>\n  <tbody>\n    <tr>\n      <th>0</th>\n      <td>58</td>\n      <td>male</td>\n      <td>15.6</td>\n      <td>2</td>\n      <td>yes</td>\n      <td>17907.54</td>\n    </tr>\n    <tr>\n      <th>1</th>\n      <td>24</td>\n      <td>male</td>\n      <td>29.8</td>\n      <td>0</td>\n      <td>yes</td>\n      <td>16312.64</td>\n    </tr>\n    <tr>\n      <th>2</th>\n      <td>50</td>\n      <td>male</td>\n      <td>29.0</td>\n      <td>5</td>\n      <td>no</td>\n      <td>6819.21</td>\n    </tr>\n    <tr>\n      <th>3</th>\n      <td>35</td>\n      <td>male</td>\n      <td>34.0</td>\n      <td>1</td>\n      <td>no</td>\n      <td>5247.87</td>\n    </tr>\n    <tr>\n      <th>4</th>\n      <td>31</td>\n      <td>female</td>\n      <td>17.6</td>\n      <td>3</td>\n      <td>yes</td>\n      <td>17525.49</td>\n    </tr>\n  </tbody>\n</table>\n</div>"
     },
     "execution_count": 1,
     "metadata": {},
     "output_type": "execute_result"
    }
   ],
   "source": [
    "import pandas as pd\n",
    "\n",
    "#Data taken from https://www.kaggle.com/datasets/waqi786/medical-costs\n",
    "\n",
    "data = pd.read_csv(\"../../data/medical_costs.csv\")\n",
    "data = data.drop('Region', axis=1) # I will train the model to predict the cost in the USA overall, independent of region\n",
    "# Hope that will not ruin anything...\n",
    "\n",
    "data.head()"
   ]
  },
  {
   "cell_type": "code",
   "execution_count": 2,
   "outputs": [
    {
     "data": {
      "text/plain": "        Age  Sex    BMI  Children  Smoker  Medical Cost\n0  0.892308    0  0.390       0.4       1      17907.54\n1  0.369231    0  0.745       0.0       1      16312.64\n2  0.769231    0  0.725       1.0       0       6819.21\n3  0.538462    0  0.850       0.2       0       5247.87\n4  0.476923    1  0.440       0.6       1      17525.49",
      "text/html": "<div>\n<style scoped>\n    .dataframe tbody tr th:only-of-type {\n        vertical-align: middle;\n    }\n\n    .dataframe tbody tr th {\n        vertical-align: top;\n    }\n\n    .dataframe thead th {\n        text-align: right;\n    }\n</style>\n<table border=\"1\" class=\"dataframe\">\n  <thead>\n    <tr style=\"text-align: right;\">\n      <th></th>\n      <th>Age</th>\n      <th>Sex</th>\n      <th>BMI</th>\n      <th>Children</th>\n      <th>Smoker</th>\n      <th>Medical Cost</th>\n    </tr>\n  </thead>\n  <tbody>\n    <tr>\n      <th>0</th>\n      <td>0.892308</td>\n      <td>0</td>\n      <td>0.390</td>\n      <td>0.4</td>\n      <td>1</td>\n      <td>17907.54</td>\n    </tr>\n    <tr>\n      <th>1</th>\n      <td>0.369231</td>\n      <td>0</td>\n      <td>0.745</td>\n      <td>0.0</td>\n      <td>1</td>\n      <td>16312.64</td>\n    </tr>\n    <tr>\n      <th>2</th>\n      <td>0.769231</td>\n      <td>0</td>\n      <td>0.725</td>\n      <td>1.0</td>\n      <td>0</td>\n      <td>6819.21</td>\n    </tr>\n    <tr>\n      <th>3</th>\n      <td>0.538462</td>\n      <td>0</td>\n      <td>0.850</td>\n      <td>0.2</td>\n      <td>0</td>\n      <td>5247.87</td>\n    </tr>\n    <tr>\n      <th>4</th>\n      <td>0.476923</td>\n      <td>1</td>\n      <td>0.440</td>\n      <td>0.6</td>\n      <td>1</td>\n      <td>17525.49</td>\n    </tr>\n  </tbody>\n</table>\n</div>"
     },
     "execution_count": 2,
     "metadata": {},
     "output_type": "execute_result"
    }
   ],
   "source": [
    "sex_to_int = {\n",
    "    'male' : 0,\n",
    "    'female' : 1\n",
    "}\n",
    "\n",
    "smoker_to_int = {\n",
    "    'no': 0,\n",
    "    'yes': 1\n",
    "}\n",
    "\n",
    "data['Sex'] = data['Sex'].apply(lambda x: sex_to_int[x])\n",
    "data['Smoker'] = data['Smoker'].apply(lambda x: smoker_to_int[x])\n",
    "data['Age'] = data['Age'] / 65\n",
    "data['BMI'] = data['BMI'] / 40\n",
    "data['Children'] = data['Children'] / 5\n",
    "\n",
    "data.head()"
   ],
   "metadata": {
    "collapsed": false,
    "ExecuteTime": {
     "end_time": "2024-10-01T14:17:52.172606700Z",
     "start_time": "2024-10-01T14:17:51.987619200Z"
    }
   }
  },
  {
   "cell_type": "code",
   "execution_count": 3,
   "outputs": [
    {
     "data": {
      "text/plain": "        Age  Sex    BMI  Children  Smoker\n0  0.892308    0  0.390       0.4       1\n1  0.369231    0  0.745       0.0       1\n2  0.769231    0  0.725       1.0       0\n3  0.538462    0  0.850       0.2       0\n4  0.476923    1  0.440       0.6       1",
      "text/html": "<div>\n<style scoped>\n    .dataframe tbody tr th:only-of-type {\n        vertical-align: middle;\n    }\n\n    .dataframe tbody tr th {\n        vertical-align: top;\n    }\n\n    .dataframe thead th {\n        text-align: right;\n    }\n</style>\n<table border=\"1\" class=\"dataframe\">\n  <thead>\n    <tr style=\"text-align: right;\">\n      <th></th>\n      <th>Age</th>\n      <th>Sex</th>\n      <th>BMI</th>\n      <th>Children</th>\n      <th>Smoker</th>\n    </tr>\n  </thead>\n  <tbody>\n    <tr>\n      <th>0</th>\n      <td>0.892308</td>\n      <td>0</td>\n      <td>0.390</td>\n      <td>0.4</td>\n      <td>1</td>\n    </tr>\n    <tr>\n      <th>1</th>\n      <td>0.369231</td>\n      <td>0</td>\n      <td>0.745</td>\n      <td>0.0</td>\n      <td>1</td>\n    </tr>\n    <tr>\n      <th>2</th>\n      <td>0.769231</td>\n      <td>0</td>\n      <td>0.725</td>\n      <td>1.0</td>\n      <td>0</td>\n    </tr>\n    <tr>\n      <th>3</th>\n      <td>0.538462</td>\n      <td>0</td>\n      <td>0.850</td>\n      <td>0.2</td>\n      <td>0</td>\n    </tr>\n    <tr>\n      <th>4</th>\n      <td>0.476923</td>\n      <td>1</td>\n      <td>0.440</td>\n      <td>0.6</td>\n      <td>1</td>\n    </tr>\n  </tbody>\n</table>\n</div>"
     },
     "execution_count": 3,
     "metadata": {},
     "output_type": "execute_result"
    }
   ],
   "source": [
    "output = data['Medical Cost']\n",
    "input = data.drop('Medical Cost', axis = 1)\n",
    "\n",
    "input.head()"
   ],
   "metadata": {
    "collapsed": false,
    "ExecuteTime": {
     "end_time": "2024-10-01T14:17:52.173604400Z",
     "start_time": "2024-10-01T14:17:52.070616400Z"
    }
   }
  },
  {
   "cell_type": "code",
   "execution_count": 4,
   "outputs": [
    {
     "data": {
      "text/plain": "0    17907.54\n1    16312.64\n2     6819.21\n3     5247.87\n4    17525.49\nName: Medical Cost, dtype: float64"
     },
     "execution_count": 4,
     "metadata": {},
     "output_type": "execute_result"
    }
   ],
   "source": [
    "output.head()"
   ],
   "metadata": {
    "collapsed": false,
    "ExecuteTime": {
     "end_time": "2024-10-01T14:17:52.174612100Z",
     "start_time": "2024-10-01T14:17:52.086626700Z"
    }
   }
  },
  {
   "cell_type": "code",
   "execution_count": 5,
   "outputs": [],
   "source": [
    "import numpy as np\n",
    "from sklearn.model_selection import train_test_split\n",
    "\n",
    "X_train, X_test, y_train, y_test = train_test_split(input, output, test_size=0.1, random_state=42)"
   ],
   "metadata": {
    "collapsed": false,
    "ExecuteTime": {
     "end_time": "2024-10-01T14:17:54.216609900Z",
     "start_time": "2024-10-01T14:17:52.119600300Z"
    }
   }
  },
  {
   "cell_type": "code",
   "execution_count": 6,
   "outputs": [
    {
     "name": "stdout",
     "output_type": "stream",
     "text": [
      "0.9975557959687352\n"
     ]
    }
   ],
   "source": [
    "from sklearn.linear_model import LinearRegression\n",
    "\n",
    "model = LinearRegression()\n",
    "model.fit(X_train, y_train)\n",
    "print(model.score(X_test, y_test))"
   ],
   "metadata": {
    "collapsed": false,
    "ExecuteTime": {
     "end_time": "2024-10-01T14:17:54.362601900Z",
     "start_time": "2024-10-01T14:17:54.219607400Z"
    }
   }
  },
  {
   "cell_type": "code",
   "execution_count": 7,
   "outputs": [],
   "source": [
    "import pickle\n",
    "\n",
    "pickle.dump(model, open('../../models/model.pkl', 'wb'))"
   ],
   "metadata": {
    "collapsed": false,
    "ExecuteTime": {
     "end_time": "2024-10-01T14:17:54.396602Z",
     "start_time": "2024-10-01T14:17:54.355613100Z"
    }
   }
  }
 ],
 "metadata": {
  "kernelspec": {
   "display_name": "Python 3",
   "language": "python",
   "name": "python3"
  },
  "language_info": {
   "codemirror_mode": {
    "name": "ipython",
    "version": 2
   },
   "file_extension": ".py",
   "mimetype": "text/x-python",
   "name": "python",
   "nbconvert_exporter": "python",
   "pygments_lexer": "ipython2",
   "version": "2.7.6"
  }
 },
 "nbformat": 4,
 "nbformat_minor": 0
}
